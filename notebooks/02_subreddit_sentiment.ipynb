{
 "cells": [
  {
   "cell_type": "markdown",
   "id": "fc1e4824",
   "metadata": {},
   "source": [
    "# Reddit Sentiment Analysis (Starter)\n",
    "This notebook fetches recent submissions/comments from configured subreddits and runs VADER sentiment."
   ]
  },
  {
   "cell_type": "code",
   "execution_count": 1,
   "id": "53f188af",
   "metadata": {},
   "outputs": [
    {
     "ename": "ModuleNotFoundError",
     "evalue": "No module named 'src'",
     "output_type": "error",
     "traceback": [
      "\u001b[31m---------------------------------------------------------------------------\u001b[39m",
      "\u001b[31mModuleNotFoundError\u001b[39m                       Traceback (most recent call last)",
      "\u001b[36mCell\u001b[39m\u001b[36m \u001b[39m\u001b[32mIn[1]\u001b[39m\u001b[32m, line 2\u001b[39m\n\u001b[32m      1\u001b[39m \u001b[38;5;28;01mimport\u001b[39;00m\u001b[38;5;250m \u001b[39m\u001b[34;01mpandas\u001b[39;00m\u001b[38;5;250m \u001b[39m\u001b[38;5;28;01mas\u001b[39;00m\u001b[38;5;250m \u001b[39m\u001b[34;01mpd\u001b[39;00m\n\u001b[32m----> \u001b[39m\u001b[32m2\u001b[39m \u001b[38;5;28;01mfrom\u001b[39;00m\u001b[38;5;250m \u001b[39m\u001b[34;01msrc\u001b[39;00m\u001b[34;01m.\u001b[39;00m\u001b[34;01mutils\u001b[39;00m\u001b[38;5;250m \u001b[39m\u001b[38;5;28;01mimport\u001b[39;00m load_settings\n\u001b[32m      3\u001b[39m \u001b[38;5;28;01mfrom\u001b[39;00m\u001b[38;5;250m \u001b[39m\u001b[34;01msrc\u001b[39;00m\u001b[34;01m.\u001b[39;00m\u001b[34;01mfetch_reddit\u001b[39;00m\u001b[38;5;250m \u001b[39m\u001b[38;5;28;01mimport\u001b[39;00m fetch_all\n\u001b[32m      4\u001b[39m \u001b[38;5;28;01mfrom\u001b[39;00m\u001b[38;5;250m \u001b[39m\u001b[34;01msrc\u001b[39;00m\u001b[34;01m.\u001b[39;00m\u001b[34;01msentiment\u001b[39;00m\u001b[38;5;250m \u001b[39m\u001b[38;5;28;01mimport\u001b[39;00m add_vader_sentiment, summarize_sentiment\n",
      "\u001b[31mModuleNotFoundError\u001b[39m: No module named 'src'"
     ]
    }
   ],
   "source": [
    "import pandas as pd\n",
    "from src.utils import load_settings\n",
    "from src.fetch_reddit import fetch_all\n",
    "from src.sentiment import add_vader_sentiment, summarize_sentiment\n",
    "import matplotlib.pyplot as plt\n",
    "cfg = load_settings()\n",
    "cfg"
   ]
  },
  {
   "cell_type": "code",
   "execution_count": null,
   "id": "79c893fc",
   "metadata": {},
   "outputs": [],
   "source": [
    "df = fetch_all(mode=cfg['mode'], subreddits=cfg['subreddits'], limit=cfg['fetch_limit'])\n",
    "print(df.shape)\n",
    "df.head(3)"
   ]
  },
  {
   "cell_type": "code",
   "execution_count": null,
   "id": "c72ee791",
   "metadata": {},
   "outputs": [],
   "source": [
    "scored = add_vader_sentiment(df)\n",
    "scored[['type','subreddit','compound','label']].head(5)"
   ]
  },
  {
   "cell_type": "code",
   "execution_count": null,
   "id": "4e50048e",
   "metadata": {},
   "outputs": [],
   "source": [
    "summary = summarize_sentiment(scored)\n",
    "summary"
   ]
  },
  {
   "cell_type": "code",
   "execution_count": null,
   "id": "f01abbba",
   "metadata": {},
   "outputs": [],
   "source": [
    "# Quick bar chart for label shares by subreddit+type\n",
    "if not summary.empty:\n",
    "    for (sub, typ), chunk in summary.groupby(['subreddit','type']):\n",
    "        ax = chunk.plot(kind='bar', x='label', y='share', title=f\"{sub} - {typ}\")\n",
    "        plt.show()"
   ]
  }
 ],
 "metadata": {
  "kernelspec": {
   "display_name": "Python 3 (ipykernel)",
   "language": "python",
   "name": "python3"
  },
  "language_info": {
   "codemirror_mode": {
    "name": "ipython",
    "version": 3
   },
   "file_extension": ".py",
   "mimetype": "text/x-python",
   "name": "python",
   "nbconvert_exporter": "python",
   "pygments_lexer": "ipython3",
   "version": "3.13.7"
  }
 },
 "nbformat": 4,
 "nbformat_minor": 5
}
